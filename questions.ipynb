{
 "cells": [
  {
   "cell_type": "markdown",
   "metadata": {},
   "source": [
    "# Avi_kaushik"
   ]
  },
  {
   "cell_type": "markdown",
   "metadata": {},
   "source": [
    "1. Write a program to check whether an year entered by an user is leap year or not"
   ]
  },
  {
   "cell_type": "code",
   "execution_count": 43,
   "metadata": {},
   "outputs": [
    {
     "name": "stdout",
     "output_type": "stream",
     "text": [
      "enter year: 2004\n",
      "Leap Year\n"
     ]
    }
   ],
   "source": [
    "def checkYear(year):\n",
    "    if (year % 4) == 0:\n",
    "        if (year % 100) == 0:\n",
    "            if (year % 400) == 0:\n",
    "                return True\n",
    "            else:\n",
    "                return False\n",
    "        else:\n",
    "             return True\n",
    "    else:\n",
    "        return False \n",
    "year = int(input(\"enter year: \"))\n",
    "if(checkYear(year)):\n",
    "    print(\"Leap Year\")\n",
    "else:\n",
    "    print(\"Not a Leap Year\")"
   ]
  },
  {
   "cell_type": "markdown",
   "metadata": {},
   "source": [
    "2. Take a string containing punctuation marks as an input from user and write a program to remove all the punctuation marks from a string"
   ]
  },
  {
   "cell_type": "code",
   "execution_count": 2,
   "metadata": {},
   "outputs": [
    {
     "name": "stdout",
     "output_type": "stream",
     "text": [
      "Enter: My*&*( na)*^^*me\n",
      "My name\n"
     ]
    }
   ],
   "source": [
    "def punc(string):\n",
    "    punctuations='''!()-[]{};:'\"\\,<>./?@#$%^&*_~'''\n",
    "    for x in string:\n",
    "        if x in punctuations:\n",
    "            string=string.replace(x, \"\")\n",
    "    print(string)\n",
    "string=input(\"Enter: \")\n",
    "punc(string)"
   ]
  },
  {
   "cell_type": "markdown",
   "metadata": {},
   "source": [
    "3. Take two separate numbers as input from the user and Write a program to swap 2 numbers without using temporary variable"
   ]
  },
  {
   "cell_type": "code",
   "execution_count": 3,
   "metadata": {},
   "outputs": [
    {
     "name": "stdout",
     "output_type": "stream",
     "text": [
      "20\n",
      "30\n",
      "x= 30 y= 20\n"
     ]
    }
   ],
   "source": [
    "x=int(input())\n",
    "y=int(input())\n",
    "x=x+y\n",
    "y=x-y\n",
    "x=x-y\n",
    "print(\"x=\",x,\"y=\",y)"
   ]
  },
  {
   "cell_type": "markdown",
   "metadata": {},
   "source": [
    "4. Write a program to print product of following variables"
   ]
  },
  {
   "cell_type": "code",
   "execution_count": 4,
   "metadata": {},
   "outputs": [
    {
     "name": "stdout",
     "output_type": "stream",
     "text": [
      "150\n"
     ]
    }
   ],
   "source": [
    "x=10\n",
    "y=\"15\"\n",
    "prod=x*int(y)\n",
    "print(prod)"
   ]
  },
  {
   "cell_type": "markdown",
   "metadata": {},
   "source": [
    "5. Write a program to print following pattern"
   ]
  },
  {
   "cell_type": "code",
   "execution_count": 6,
   "metadata": {},
   "outputs": [
    {
     "name": "stdout",
     "output_type": "stream",
     "text": [
      "a \r\n",
      "b c \r\n",
      "d e f \r\n",
      "g h i j \r\n",
      "k l m n o \r\n",
      "p q r s t u \r\n"
     ]
    }
   ],
   "source": [
    "def pattern(n):\n",
    "    num = 97\n",
    "    for i in range(0,n):\n",
    "        for j in range(0,i+1):\n",
    "            ch=chr(num)\n",
    "            print(ch, end=\" \")\n",
    "            num=num+1\n",
    "        print(\"\\r\")\n",
    "n=6\n",
    "pattern(n)"
   ]
  },
  {
   "cell_type": "markdown",
   "metadata": {},
   "source": [
    "6. Write a program to print tables from 2 to n, where n is provided by user"
   ]
  },
  {
   "cell_type": "code",
   "execution_count": 10,
   "metadata": {},
   "outputs": [
    {
     "name": "stdout",
     "output_type": "stream",
     "text": [
      "Enter: 4\n",
      "2 * 1 = 2\n",
      "2 * 2 = 4\n",
      "2 * 3 = 6\n",
      "2 * 4 = 8\n",
      "2 * 5 = 10\n",
      "2 * 6 = 12\n",
      "2 * 7 = 14\n",
      "2 * 8 = 16\n",
      "2 * 9 = 18\n",
      "2 * 10 = 20\n",
      "\n",
      "3 * 1 = 3\n",
      "3 * 2 = 6\n",
      "3 * 3 = 9\n",
      "3 * 4 = 12\n",
      "3 * 5 = 15\n",
      "3 * 6 = 18\n",
      "3 * 7 = 21\n",
      "3 * 8 = 24\n",
      "3 * 9 = 27\n",
      "3 * 10 = 30\n",
      "\n",
      "4 * 1 = 4\n",
      "4 * 2 = 8\n",
      "4 * 3 = 12\n",
      "4 * 4 = 16\n",
      "4 * 5 = 20\n",
      "4 * 6 = 24\n",
      "4 * 7 = 28\n",
      "4 * 8 = 32\n",
      "4 * 9 = 36\n",
      "4 * 10 = 40\n",
      "\n"
     ]
    }
   ],
   "source": [
    "def tables(n):\n",
    "    for i in range(2,n+1):\n",
    "        for j in range(1,11):\n",
    "            print(i,\"*\",j,\"=\",i*j)\n",
    "        print(\"\\r\")\n",
    "n=int(input(\"Enter: \"))\n",
    "tables(n)"
   ]
  },
  {
   "cell_type": "markdown",
   "metadata": {},
   "source": [
    "7. Write a program to read height (in centimeters) from user and then convert it to feet and inches"
   ]
  },
  {
   "cell_type": "code",
   "execution_count": 12,
   "metadata": {},
   "outputs": [
    {
     "name": "stdout",
     "output_type": "stream",
     "text": [
      "height in centimeters: 20\n",
      "0.6561679790026247 ft\n",
      "7.874016 in\n"
     ]
    }
   ],
   "source": [
    "def convert(height):\n",
    "    feet=height/30.48\n",
    "    inch=height*0.3937008\n",
    "    print(feet,\"ft\")\n",
    "    print(inch,\"in\")\n",
    "height=int(input(\"height in centimeters: \"))\n",
    "convert(height)"
   ]
  },
  {
   "cell_type": "markdown",
   "metadata": {},
   "source": [
    "8. Write a program to print following pattern\n",
    "\n",
    "                                            *\n",
    "                                            * * \n",
    "                                            * * *\n",
    "                                            * *\n",
    "                                            *"
   ]
  },
  {
   "cell_type": "code",
   "execution_count": 18,
   "metadata": {},
   "outputs": [
    {
     "name": "stdout",
     "output_type": "stream",
     "text": [
      "\r\n",
      "\r\n",
      "* \r\n",
      "* * \r\n",
      "* * * \r\n",
      "* * \r\n",
      "* \r\n",
      "\r\n"
     ]
    }
   ],
   "source": [
    "def pattern1(n):\n",
    "    for i in range(0,n):\n",
    "        for j in range(0,i-1):\n",
    "            print(\"*\", end=\" \")\n",
    "        print(\"\\r\")\n",
    "    for i in range(n,0,-1):\n",
    "        for j in range(0,i-1):\n",
    "            print(\"*\", end=\" \")\n",
    "        print(\"\\r\")\n",
    "n=4\n",
    "pattern1(n)"
   ]
  },
  {
   "cell_type": "markdown",
   "metadata": {},
   "source": [
    "9. Below list contains age and name of five students. Convert the list into a dictionary such that the name is taken as key and the age before their name is taken as thier respective value in the dictionary\n",
    "\n",
    "students = [26,'Jon',34,'Roger',13,'Jessica',24,'Monica',65,'Ashton'] Output: {'Jon':26, 'Roger':34, 'Jessica':13, 'Monica':24, 'Ashton':65}"
   ]
  },
  {
   "cell_type": "code",
   "execution_count": 44,
   "metadata": {},
   "outputs": [
    {
     "data": {
      "text/plain": [
       "{'Jon': 26, 'Roger': 34, 'Jessica': 13, 'Monica': 24, 'Ashton': 65}"
      ]
     },
     "execution_count": 44,
     "metadata": {},
     "output_type": "execute_result"
    }
   ],
   "source": [
    "students = [26,'Jon',34,'Roger',13,'Jessica',24,'Monica',65,'Ashton']\n",
    "new_dict = {students[i+1]: students[i] for i in range(0, len(students), 2)}\n",
    "new_dict"
   ]
  },
  {
   "cell_type": "markdown",
   "metadata": {},
   "source": [
    "10. Write a program to check whether two strings, taken from user, are anagram or not"
   ]
  },
  {
   "cell_type": "code",
   "execution_count": 19,
   "metadata": {},
   "outputs": [
    {
     "name": "stdout",
     "output_type": "stream",
     "text": [
      "enter string 1: qwerty\n",
      "enter string 2: ytrewq\n",
      "anagrams\n"
     ]
    }
   ],
   "source": [
    "def anagram(str1,str2):\n",
    "    if(sorted(str1)==sorted(str2)):\n",
    "        print(\"anagrams\")\n",
    "    else:\n",
    "        print(\"not anagrams\")\n",
    "str1=str(input(\"enter string 1: \"))\n",
    "str2=str(input(\"enter string 2: \"))\n",
    "anagram(str1,str2)"
   ]
  },
  {
   "cell_type": "markdown",
   "metadata": {},
   "source": [
    "12. Write a program that prints a list of sour fruits from the below tuple:\n",
    "\n",
    "\n",
    "fruits = (('Lemon','sour'), ('DragonFruit', 'Sweet'), ('Grapes','soUr'), ('Kiwi','Sour'), ('Apples','sweet'), ('Orange','sour'), ('Blueberries','sweet'), ('Limes','Sour') )\n",
    "\n",
    "\n",
    "Output: Sour Fruits: ['Lemon', 'Grapes', 'Kiwi', 'Orange', 'Limes']\n"
   ]
  },
  {
   "cell_type": "code",
   "execution_count": 45,
   "metadata": {},
   "outputs": [
    {
     "name": "stdout",
     "output_type": "stream",
     "text": [
      "Sour Fruits: ['Lemon', 'Grapes', 'Kiwi', 'Orange', 'Limes']\n"
     ]
    }
   ],
   "source": [
    "fruits = (('Lemon','sour'), ('DragonFruit', 'Sweet'), ('Grapes','soUr'), ('Kiwi','Sour'), ('Apples','sweet'), ('Orange','sour'), ('Blueberries','sweet'), ('Limes','Sour') )\n",
    "s_f = []\n",
    "for i in range(len(fruits)):\n",
    "    if fruits[i][1].lower() == 'sour':\n",
    "        s_f.append(fruits[i][0])\n",
    "print(f\"Sour Fruits: {s_f}\")"
   ]
  },
  {
   "cell_type": "markdown",
   "metadata": {},
   "source": [
    "13. Given below are the list of positive and negative words. Also a list of tweets is provided. Separate out the positive and negative comments\n",
    "\n",
    "\n",
    "positive = ['good','awesome', 'best', 'nice']\n",
    "\n",
    "\n",
    "negative = ['worst','awful', 'bad']\n",
    "\n",
    "\n",
    "tweets = ['This government policies are good', 'bad implementation', 'The way he played showed that he is one of the best players in the world', 'Her acting in the play was awesome', 'The wine tastes awful', 'It's nice to hear this little kid's laugh']"
   ]
  },
  {
   "cell_type": "code",
   "execution_count": 46,
   "metadata": {},
   "outputs": [
    {
     "name": "stdout",
     "output_type": "stream",
     "text": [
      "Positive Comments : ['This government policies are good', 'The way he played showed that he is one of the best players in the world', 'Her acting in the play was awesome', \"It's nice to hear this little kid's laugh\"]\n",
      "\n",
      "Negative Comments : ['bad implementation', 'The wine tastes awful']\n"
     ]
    }
   ],
   "source": [
    "positive = ['good','awesome', 'best', 'nice']\n",
    "negative = ['worst','awful', 'bad']\n",
    "\n",
    "tweets = ['This government policies are good', \n",
    "'bad implementation', 'The way he played showed that he is one of the best players in the world', 'Her acting in the play was awesome', 'The wine tastes awful', \"It's nice to hear this little kid's laugh\"]\n",
    "\n",
    "p_tweet = []\n",
    "n_tweet = []\n",
    "\n",
    "for tweet in tweets:\n",
    "    for i in range(len(positive)):\n",
    "        if positive[i] in tweet:\n",
    "            p_tweet.append(tweet)\n",
    "for tweet in tweets:\n",
    "    if tweet not in p_tweet:\n",
    "        n_tweet.append(tweet)\n",
    "print(f\"Positive Comments : {p_tweet}\\n\")\n",
    "print(f\"Negative Comments : {n_tweet}\")"
   ]
  },
  {
   "cell_type": "markdown",
   "metadata": {},
   "source": [
    "14. Write a program that performs multiplication of the following two matrix\n",
    "\n",
    "X = [[1,2,3],\n",
    "    [4 ,5,6],\n",
    "    [7 ,8,9]]\n",
    "\n",
    "Y = [[1,8,1],\n",
    "    [3,7,3],\n",
    "    [4,5,9]]"
   ]
  },
  {
   "cell_type": "code",
   "execution_count": 47,
   "metadata": {},
   "outputs": [
    {
     "name": "stdout",
     "output_type": "stream",
     "text": [
      "Multiplication:  [[ 1 16  3]\n",
      " [12 35 18]\n",
      " [28 40 81]]\n",
      "Dot Multiplication:  [[ 19  37  34]\n",
      " [ 43  97  73]\n",
      " [ 67 157 112]]\n"
     ]
    }
   ],
   "source": [
    "X = [[1,2,3], [4 ,5,6],[7 ,8,9]]\n",
    "\n",
    "Y = [[1,8,1], [3,7,3], [4,5,9]]\n",
    "\n",
    "x1 = np.array(X)\n",
    "y1 = np.array(Y)\n",
    "\n",
    "print('Multiplication: ', x1*y1)\n",
    "print('Dot Multiplication: ', x1@y1)"
   ]
  },
  {
   "cell_type": "markdown",
   "metadata": {},
   "source": [
    "15. Write a program to remove space from keys of the given dictionary\n",
    "\n",
    "Employee = {'emp 01' : 'Raj', 'emp 02' : 'Sheela', 'emp 0 3 ': 'Joseph'};\n",
    "\n",
    "Output:\n",
    "New dictionary : {'emp01': 'Raj', 'emp02': 'Sheela', 'emp03': 'Joseph'}"
   ]
  },
  {
   "cell_type": "code",
   "execution_count": 48,
   "metadata": {},
   "outputs": [
    {
     "name": "stdout",
     "output_type": "stream",
     "text": [
      "{'emp01': 'Raj', 'emp02': 'Sheela', 'emp03': 'Joseph'}\n"
     ]
    }
   ],
   "source": [
    "Employee = {'emp 01' : 'Raj', 'emp 02' : 'Sheela', 'emp 0 3 ': 'Joseph'}\n",
    "new_emp = {}\n",
    "for k,v in Employee.items():\n",
    "    k = k.replace(' ', '')\n",
    "    new_emp[k] = v\n",
    "print(new_emp)"
   ]
  },
  {
   "cell_type": "markdown",
   "metadata": {},
   "source": [
    "16. Write a program to display the subjects for which the scores are between 300 and 500 (inclusive) in the given dataframe\n",
    "\n",
    "Use the dataframe given below:\n",
    "Subject \tScore\n",
    "Maths \t345\n",
    "Physics \t432\n",
    "Chemistry \t456\n",
    "Biology \t234\n",
    "Geology \t254"
   ]
  },
  {
   "cell_type": "code",
   "execution_count": 49,
   "metadata": {},
   "outputs": [
    {
     "data": {
      "text/html": [
       "<div>\n",
       "<style scoped>\n",
       "    .dataframe tbody tr th:only-of-type {\n",
       "        vertical-align: middle;\n",
       "    }\n",
       "\n",
       "    .dataframe tbody tr th {\n",
       "        vertical-align: top;\n",
       "    }\n",
       "\n",
       "    .dataframe thead th {\n",
       "        text-align: right;\n",
       "    }\n",
       "</style>\n",
       "<table border=\"1\" class=\"dataframe\">\n",
       "  <thead>\n",
       "    <tr style=\"text-align: right;\">\n",
       "      <th></th>\n",
       "      <th>Subject</th>\n",
       "      <th>Score</th>\n",
       "    </tr>\n",
       "  </thead>\n",
       "  <tbody>\n",
       "    <tr>\n",
       "      <th>0</th>\n",
       "      <td>Maths</td>\n",
       "      <td>345</td>\n",
       "    </tr>\n",
       "    <tr>\n",
       "      <th>1</th>\n",
       "      <td>Physics</td>\n",
       "      <td>432</td>\n",
       "    </tr>\n",
       "    <tr>\n",
       "      <th>2</th>\n",
       "      <td>Chemistry</td>\n",
       "      <td>456</td>\n",
       "    </tr>\n",
       "  </tbody>\n",
       "</table>\n",
       "</div>"
      ],
      "text/plain": [
       "     Subject  Score\n",
       "0      Maths    345\n",
       "1    Physics    432\n",
       "2  Chemistry    456"
      ]
     },
     "execution_count": 49,
     "metadata": {},
     "output_type": "execute_result"
    }
   ],
   "source": [
    "import pandas as pd\n",
    "data = [['Maths', 345], ['Physics', 432], ['Chemistry', 456], ['Biology', 234], ['Geology', 254]]\n",
    "df = pd.DataFrame(data, columns=['Subject', 'Score' ])\n",
    "df[(df['Score'] > 300) & (df['Score'] <= 500)]"
   ]
  },
  {
   "cell_type": "markdown",
   "metadata": {},
   "source": [
    "17. Write a program to find numbers between 10000 to 20000 from a given array¶\n",
    "\n",
    "Use the list given below:\n",
    "\n",
    "Sales = [1432,143223,2043332,1642357,54327,754338,12459,75435,224454,1433,12447,25532,86674,74338,12678]"
   ]
  },
  {
   "cell_type": "code",
   "execution_count": 29,
   "metadata": {},
   "outputs": [
    {
     "name": "stdout",
     "output_type": "stream",
     "text": [
      "12459 12447 12678 "
     ]
    }
   ],
   "source": [
    "Sales = [1432,143223,2043332,1642357,54327,754338,12459,75435,224454,1433,12447,25532,86674,74338,12678]\n",
    "for i in Sales:\n",
    "    if(i>10000 and i<20000):\n",
    "        print(i,end=\" \")"
   ]
  },
  {
   "cell_type": "markdown",
   "metadata": {},
   "source": [
    "18. Write a program to sort the dataframe by Rank (in ascending order)\n",
    "\n",
    "Use the dataframe given below:\n",
    "Name \tRank\n",
    "Joy \t115\n",
    "Mia \t451\n",
    "Karan \t341\n",
    "Tom \t84"
   ]
  },
  {
   "cell_type": "code",
   "execution_count": 50,
   "metadata": {},
   "outputs": [
    {
     "data": {
      "text/html": [
       "<div>\n",
       "<style scoped>\n",
       "    .dataframe tbody tr th:only-of-type {\n",
       "        vertical-align: middle;\n",
       "    }\n",
       "\n",
       "    .dataframe tbody tr th {\n",
       "        vertical-align: top;\n",
       "    }\n",
       "\n",
       "    .dataframe thead th {\n",
       "        text-align: right;\n",
       "    }\n",
       "</style>\n",
       "<table border=\"1\" class=\"dataframe\">\n",
       "  <thead>\n",
       "    <tr style=\"text-align: right;\">\n",
       "      <th></th>\n",
       "      <th>Name</th>\n",
       "      <th>Rank</th>\n",
       "    </tr>\n",
       "  </thead>\n",
       "  <tbody>\n",
       "    <tr>\n",
       "      <th>3</th>\n",
       "      <td>Tom</td>\n",
       "      <td>84</td>\n",
       "    </tr>\n",
       "    <tr>\n",
       "      <th>0</th>\n",
       "      <td>Joy</td>\n",
       "      <td>115</td>\n",
       "    </tr>\n",
       "    <tr>\n",
       "      <th>2</th>\n",
       "      <td>Karan</td>\n",
       "      <td>341</td>\n",
       "    </tr>\n",
       "    <tr>\n",
       "      <th>1</th>\n",
       "      <td>Mia</td>\n",
       "      <td>451</td>\n",
       "    </tr>\n",
       "  </tbody>\n",
       "</table>\n",
       "</div>"
      ],
      "text/plain": [
       "    Name  Rank\n",
       "3    Tom    84\n",
       "0    Joy   115\n",
       "2  Karan   341\n",
       "1    Mia   451"
      ]
     },
     "execution_count": 50,
     "metadata": {},
     "output_type": "execute_result"
    }
   ],
   "source": [
    "data = [['Joy', 115], ['Mia', 451], ['Karan', 341], ['Tom', 84]]\n",
    "df = pd.DataFrame(data, columns=['Name', 'Rank'])\n",
    "df.sort_values('Rank')"
   ]
  },
  {
   "cell_type": "markdown",
   "metadata": {},
   "source": [
    "19. Use the data given in the question 18, to do the following:\n",
    "\n",
    "Write a program to swap the 1st and 2nd row in a dataframe"
   ]
  },
  {
   "cell_type": "code",
   "execution_count": 51,
   "metadata": {},
   "outputs": [
    {
     "data": {
      "text/html": [
       "<div>\n",
       "<style scoped>\n",
       "    .dataframe tbody tr th:only-of-type {\n",
       "        vertical-align: middle;\n",
       "    }\n",
       "\n",
       "    .dataframe tbody tr th {\n",
       "        vertical-align: top;\n",
       "    }\n",
       "\n",
       "    .dataframe thead th {\n",
       "        text-align: right;\n",
       "    }\n",
       "</style>\n",
       "<table border=\"1\" class=\"dataframe\">\n",
       "  <thead>\n",
       "    <tr style=\"text-align: right;\">\n",
       "      <th></th>\n",
       "      <th>Name</th>\n",
       "      <th>Rank</th>\n",
       "    </tr>\n",
       "  </thead>\n",
       "  <tbody>\n",
       "    <tr>\n",
       "      <th>0</th>\n",
       "      <td>Mia</td>\n",
       "      <td>451</td>\n",
       "    </tr>\n",
       "    <tr>\n",
       "      <th>1</th>\n",
       "      <td>Joy</td>\n",
       "      <td>115</td>\n",
       "    </tr>\n",
       "    <tr>\n",
       "      <th>2</th>\n",
       "      <td>Karan</td>\n",
       "      <td>341</td>\n",
       "    </tr>\n",
       "    <tr>\n",
       "      <th>3</th>\n",
       "      <td>Tom</td>\n",
       "      <td>84</td>\n",
       "    </tr>\n",
       "  </tbody>\n",
       "</table>\n",
       "</div>"
      ],
      "text/plain": [
       "    Name  Rank\n",
       "0    Mia   451\n",
       "1    Joy   115\n",
       "2  Karan   341\n",
       "3    Tom    84"
      ]
     },
     "execution_count": 51,
     "metadata": {},
     "output_type": "execute_result"
    }
   ],
   "source": [
    "data = [['Joy', 115], ['Mia', 451], ['Karan', 341], ['Tom', 84]]\n",
    "df = pd.DataFrame(data, columns=['Name', 'Rank'])\n",
    "df.iloc[0], df.iloc[1] = df.iloc[1], df.iloc[0]\n",
    "df"
   ]
  },
  {
   "cell_type": "markdown",
   "metadata": {},
   "source": [
    "20. Write a program to replace 0 and 1 in Gender variable with M and F\n",
    "\n",
    "Use the dataframe given below:\n",
    "Id \tName \tAge \tGender\n",
    "1 \tMia \t47 \t1\n",
    "2 \tSara \t38 \t1\n",
    "3 \tJoy \t47 \t0\n",
    "4 \tKaran \t41 \t0"
   ]
  },
  {
   "cell_type": "code",
   "execution_count": 52,
   "metadata": {},
   "outputs": [
    {
     "data": {
      "text/html": [
       "<div>\n",
       "<style scoped>\n",
       "    .dataframe tbody tr th:only-of-type {\n",
       "        vertical-align: middle;\n",
       "    }\n",
       "\n",
       "    .dataframe tbody tr th {\n",
       "        vertical-align: top;\n",
       "    }\n",
       "\n",
       "    .dataframe thead th {\n",
       "        text-align: right;\n",
       "    }\n",
       "</style>\n",
       "<table border=\"1\" class=\"dataframe\">\n",
       "  <thead>\n",
       "    <tr style=\"text-align: right;\">\n",
       "      <th></th>\n",
       "      <th>ID</th>\n",
       "      <th>Name</th>\n",
       "      <th>Age</th>\n",
       "      <th>Gender</th>\n",
       "    </tr>\n",
       "  </thead>\n",
       "  <tbody>\n",
       "    <tr>\n",
       "      <th>0</th>\n",
       "      <td>F</td>\n",
       "      <td>Mia</td>\n",
       "      <td>47</td>\n",
       "      <td>F</td>\n",
       "    </tr>\n",
       "    <tr>\n",
       "      <th>1</th>\n",
       "      <td>2</td>\n",
       "      <td>Sara</td>\n",
       "      <td>38</td>\n",
       "      <td>F</td>\n",
       "    </tr>\n",
       "    <tr>\n",
       "      <th>2</th>\n",
       "      <td>3</td>\n",
       "      <td>Joy</td>\n",
       "      <td>47</td>\n",
       "      <td>M</td>\n",
       "    </tr>\n",
       "    <tr>\n",
       "      <th>3</th>\n",
       "      <td>4</td>\n",
       "      <td>Karan</td>\n",
       "      <td>41</td>\n",
       "      <td>M</td>\n",
       "    </tr>\n",
       "  </tbody>\n",
       "</table>\n",
       "</div>"
      ],
      "text/plain": [
       "  ID   Name  Age Gender\n",
       "0  F    Mia   47      F\n",
       "1  2   Sara   38      F\n",
       "2  3    Joy   47      M\n",
       "3  4  Karan   41      M"
      ]
     },
     "execution_count": 52,
     "metadata": {},
     "output_type": "execute_result"
    }
   ],
   "source": [
    "data = [[1,'Mia', 47, 1], [2,'Sara', 38, 1], [3,'Joy', 47, 0], [4,'Karan', 41, 0]]\n",
    "df = pd.DataFrame(data, columns=['ID', 'Name', 'Age', 'Gender'])\n",
    "df.replace(to_replace = [1,0], value = ['F', 'M'])"
   ]
  },
  {
   "cell_type": "markdown",
   "metadata": {},
   "source": [
    "21. Convert a 1D array to a 2D array containing 2 rows\n",
    "\n",
    "Use the array given below:\n",
    "\n",
    "dim_1 = ([331, 245, 246, 475, 348, 229])"
   ]
  },
  {
   "cell_type": "code",
   "execution_count": 59,
   "metadata": {},
   "outputs": [
    {
     "data": {
      "text/plain": [
       "array([[331, 245, 246],\n",
       "       [475, 348, 229]])"
      ]
     },
     "execution_count": 59,
     "metadata": {},
     "output_type": "execute_result"
    }
   ],
   "source": [
    "import numpy as np\n",
    "dim_1 = np.array([331, 245, 246, 475, 348, 229])\n",
    "dim_1.reshape(2,3)"
   ]
  },
  {
   "cell_type": "markdown",
   "metadata": {},
   "source": [
    "22. Find the average cost of each variety of product available in the three different shops\n",
    "\n",
    "Use the data given below:\n",
    "\n",
    "[[10, 20, 30], [17, 14, 21], [25, 15, 12]], columns=['product_a', 'product_b', 'product_c'], index=['Shop1', 'Shop2', 'Shop3']"
   ]
  },
  {
   "cell_type": "code",
   "execution_count": 54,
   "metadata": {},
   "outputs": [
    {
     "name": "stdout",
     "output_type": "stream",
     "text": [
      "Product A =  17.333333333333332\n",
      "Product B =  16.333333333333332\n",
      "Product C =  21.0\n"
     ]
    }
   ],
   "source": [
    "shop_df = pd.DataFrame([[10, 20, 30], [17, 14, 21], [25, 15, 12]], columns=['product_a', 'product_b', 'product_c'],index=['Shop1', 'Shop2', 'Shop3'])\n",
    "shop_df\n",
    "print('Product A = ',shop_df['product_a'].mean())\n",
    "print('Product B = ',shop_df['product_b'].mean())\n",
    "print('Product C = ',shop_df['product_c'].mean())"
   ]
  },
  {
   "cell_type": "markdown",
   "metadata": {},
   "source": [
    "25. Create a series of 40 random numbers and transform it into a dataframe containing seven columns and five rows"
   ]
  },
  {
   "cell_type": "code",
   "execution_count": 56,
   "metadata": {},
   "outputs": [
    {
     "data": {
      "text/html": [
       "<div>\n",
       "<style scoped>\n",
       "    .dataframe tbody tr th:only-of-type {\n",
       "        vertical-align: middle;\n",
       "    }\n",
       "\n",
       "    .dataframe tbody tr th {\n",
       "        vertical-align: top;\n",
       "    }\n",
       "\n",
       "    .dataframe thead th {\n",
       "        text-align: right;\n",
       "    }\n",
       "</style>\n",
       "<table border=\"1\" class=\"dataframe\">\n",
       "  <thead>\n",
       "    <tr style=\"text-align: right;\">\n",
       "      <th></th>\n",
       "      <th>0</th>\n",
       "      <th>1</th>\n",
       "      <th>2</th>\n",
       "      <th>3</th>\n",
       "      <th>4</th>\n",
       "      <th>5</th>\n",
       "      <th>6</th>\n",
       "    </tr>\n",
       "  </thead>\n",
       "  <tbody>\n",
       "    <tr>\n",
       "      <th>0</th>\n",
       "      <td>69</td>\n",
       "      <td>75</td>\n",
       "      <td>58</td>\n",
       "      <td>8</td>\n",
       "      <td>58</td>\n",
       "      <td>93</td>\n",
       "      <td>62</td>\n",
       "    </tr>\n",
       "    <tr>\n",
       "      <th>1</th>\n",
       "      <td>88</td>\n",
       "      <td>89</td>\n",
       "      <td>7</td>\n",
       "      <td>1</td>\n",
       "      <td>91</td>\n",
       "      <td>21</td>\n",
       "      <td>53</td>\n",
       "    </tr>\n",
       "    <tr>\n",
       "      <th>2</th>\n",
       "      <td>80</td>\n",
       "      <td>57</td>\n",
       "      <td>1</td>\n",
       "      <td>94</td>\n",
       "      <td>36</td>\n",
       "      <td>42</td>\n",
       "      <td>50</td>\n",
       "    </tr>\n",
       "    <tr>\n",
       "      <th>3</th>\n",
       "      <td>37</td>\n",
       "      <td>59</td>\n",
       "      <td>34</td>\n",
       "      <td>21</td>\n",
       "      <td>27</td>\n",
       "      <td>77</td>\n",
       "      <td>51</td>\n",
       "    </tr>\n",
       "    <tr>\n",
       "      <th>4</th>\n",
       "      <td>49</td>\n",
       "      <td>26</td>\n",
       "      <td>99</td>\n",
       "      <td>53</td>\n",
       "      <td>87</td>\n",
       "      <td>45</td>\n",
       "      <td>11</td>\n",
       "    </tr>\n",
       "  </tbody>\n",
       "</table>\n",
       "</div>"
      ],
      "text/plain": [
       "    0   1   2   3   4   5   6\n",
       "0  69  75  58   8  58  93  62\n",
       "1  88  89   7   1  91  21  53\n",
       "2  80  57   1  94  36  42  50\n",
       "3  37  59  34  21  27  77  51\n",
       "4  49  26  99  53  87  45  11"
      ]
     },
     "execution_count": 56,
     "metadata": {},
     "output_type": "execute_result"
    }
   ],
   "source": [
    "number = pd.DataFrame(np.random.randint(0,100, (5,7)))\n",
    "number"
   ]
  },
  {
   "cell_type": "markdown",
   "metadata": {},
   "source": [
    "26. Get common elements from the two arrays\n",
    "\n",
    "Use the array given below:\n",
    "\n",
    "  test_a = np.array([11,12,13,22,23,44,43,24,45,36])\n",
    "  test_b = np.array([17,22,13,22,47,34,39,44,29,28])"
   ]
  },
  {
   "cell_type": "code",
   "execution_count": 30,
   "metadata": {},
   "outputs": [
    {
     "name": "stdout",
     "output_type": "stream",
     "text": [
      "[13 22 44]\n"
     ]
    }
   ],
   "source": [
    "import numpy as np\n",
    "\n",
    "test_a = np.array([11,12,13,22,23,44,43,24,45,36])\n",
    "test_b = np.array([17,22,13,22,47,34,39,44,29,28])\n",
    "\n",
    "print(np.intersect1d(test_a, test_b))"
   ]
  },
  {
   "cell_type": "markdown",
   "metadata": {},
   "source": [
    "28. Compute total sales for each product and country\n",
    "\n",
    "Use the dataframe given below:\n",
    "Product \tCountry \tSales\n",
    "A \tUSA \t44000\n",
    "J \tJapan \t43000\n",
    "A \tEurope \t54000\n",
    "L \tJapan \t95600\n",
    "R \tEurope \t79000\n",
    "A \tUSA \t67000\n",
    "R \tUSA \t68000\n",
    "J \tJapan \t38000\n",
    "L \tUSA \t59000\n",
    "A \tEurope \t60000"
   ]
  },
  {
   "cell_type": "code",
   "execution_count": 63,
   "metadata": {},
   "outputs": [
    {
     "data": {
      "text/html": [
       "<div>\n",
       "<style scoped>\n",
       "    .dataframe tbody tr th:only-of-type {\n",
       "        vertical-align: middle;\n",
       "    }\n",
       "\n",
       "    .dataframe tbody tr th {\n",
       "        vertical-align: top;\n",
       "    }\n",
       "\n",
       "    .dataframe thead th {\n",
       "        text-align: right;\n",
       "    }\n",
       "</style>\n",
       "<table border=\"1\" class=\"dataframe\">\n",
       "  <thead>\n",
       "    <tr style=\"text-align: right;\">\n",
       "      <th></th>\n",
       "      <th></th>\n",
       "      <th>Sales</th>\n",
       "    </tr>\n",
       "    <tr>\n",
       "      <th>Product</th>\n",
       "      <th>Country</th>\n",
       "      <th></th>\n",
       "    </tr>\n",
       "  </thead>\n",
       "  <tbody>\n",
       "    <tr>\n",
       "      <th rowspan=\"2\" valign=\"top\">A</th>\n",
       "      <th>Europe</th>\n",
       "      <td>114000</td>\n",
       "    </tr>\n",
       "    <tr>\n",
       "      <th>USA</th>\n",
       "      <td>111000</td>\n",
       "    </tr>\n",
       "    <tr>\n",
       "      <th>J</th>\n",
       "      <th>Japan</th>\n",
       "      <td>81000</td>\n",
       "    </tr>\n",
       "    <tr>\n",
       "      <th rowspan=\"2\" valign=\"top\">L</th>\n",
       "      <th>Japan</th>\n",
       "      <td>95600</td>\n",
       "    </tr>\n",
       "    <tr>\n",
       "      <th>USA</th>\n",
       "      <td>59000</td>\n",
       "    </tr>\n",
       "    <tr>\n",
       "      <th rowspan=\"2\" valign=\"top\">R</th>\n",
       "      <th>Europe</th>\n",
       "      <td>79000</td>\n",
       "    </tr>\n",
       "    <tr>\n",
       "      <th>USA</th>\n",
       "      <td>68000</td>\n",
       "    </tr>\n",
       "  </tbody>\n",
       "</table>\n",
       "</div>"
      ],
      "text/plain": [
       "                  Sales\n",
       "Product Country        \n",
       "A       Europe   114000\n",
       "        USA      111000\n",
       "J       Japan     81000\n",
       "L       Japan     95600\n",
       "        USA       59000\n",
       "R       Europe    79000\n",
       "        USA       68000"
      ]
     },
     "execution_count": 63,
     "metadata": {},
     "output_type": "execute_result"
    }
   ],
   "source": [
    "sales = [['A', 'USA', 44000], ['J', 'Japan', 43000], ['A', 'Europe', 54000], ['L', 'Japan', 95600], ['R', 'Europe', 79000], ['A', 'USA', 67000], ['R', 'USA', 68000], ['J', 'Japan', 38000], ['L', 'USA', 59000], ['A', 'Europe', 60000]]\n",
    "\n",
    "sales_df = pd.DataFrame(sales, columns=['Product', 'Country', 'Sales'])\n",
    "sales_df.groupby(['Product', 'Country']).sum()"
   ]
  },
  {
   "cell_type": "markdown",
   "metadata": {},
   "source": [
    "30. Reverse each of the rows of the 2D array¶\n",
    "\n",
    "Use the array given below:\n",
    "\n",
    "num_array = np.arange(20).reshape(4,5)"
   ]
  },
  {
   "cell_type": "code",
   "execution_count": 64,
   "metadata": {},
   "outputs": [
    {
     "name": "stdout",
     "output_type": "stream",
     "text": [
      "[[ 4  3  2  1  0]\n",
      " [ 9  8  7  6  5]\n",
      " [14 13 12 11 10]\n",
      " [19 18 17 16 15]]\n"
     ]
    }
   ],
   "source": [
    "num_array = np.arange(20).reshape(4,5)\n",
    "for i in range(len(num_array)):\n",
    "    num_array[i] = np.flip(num_array[i])\n",
    "print(num_array)"
   ]
  }
 ],
 "metadata": {
  "kernelspec": {
   "display_name": "Python 3",
   "language": "python",
   "name": "python3"
  },
  "language_info": {
   "codemirror_mode": {
    "name": "ipython",
    "version": 3
   },
   "file_extension": ".py",
   "mimetype": "text/x-python",
   "name": "python",
   "nbconvert_exporter": "python",
   "pygments_lexer": "ipython3",
   "version": "3.8.5"
  }
 },
 "nbformat": 4,
 "nbformat_minor": 4
}
